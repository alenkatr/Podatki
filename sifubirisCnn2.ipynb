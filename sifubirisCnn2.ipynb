{
 "cells": [
  {
   "cell_type": "code",
   "execution_count": 1,
   "id": "above-dividend",
   "metadata": {},
   "outputs": [
    {
     "name": "stderr",
     "output_type": "stream",
     "text": [
      "/home/alenkat/.local/lib/python3.6/site-packages/sklearn/externals/joblib/__init__.py:15: FutureWarning: sklearn.externals.joblib is deprecated in 0.21 and will be removed in 0.23. Please import this functionality directly from joblib, which can be installed with: pip install joblib. If this warning is raised when loading pickled models, you may need to re-serialize those models with scikit-learn 0.21+.\n",
      "  warnings.warn(msg, category=FutureWarning)\n"
     ]
    }
   ],
   "source": [
    "#vezan na sifAniSvm1\n",
    "#DELUJE------------------------------DELUJE---------------\n",
    "\n",
    "import cv2\n",
    "import numpy as np\n",
    "import os\n",
    "import pylab as pl\n",
    "from sklearn.metrics import confusion_matrix, accuracy_score #sreeni\n",
    "from sklearn.externals import joblib"
   ]
  },
  {
   "cell_type": "code",
   "execution_count": 16,
   "id": "enabling-yukon",
   "metadata": {},
   "outputs": [],
   "source": [
    "# Load the classifier, class names, scaler, number of clusters and vocabulary \n",
    "#from stored pickle file (generated during training)\n",
    "#clf, classes_names, k, voc = joblib.load(\"iriseye1cnn.pkl\")\n",
    "clf, classes_names, k, voc = joblib.load(\"ubiris1cnn1_6.pkl\")"
   ]
  },
  {
   "cell_type": "code",
   "execution_count": 17,
   "id": "explicit-ministry",
   "metadata": {},
   "outputs": [],
   "source": [
    "# Get the path of the testing image(s) and store them in a list\n",
    "#instead of test if you use train then we get great accuracy\n",
    "#test_path = 'iriseye1/test'  # Folder Names are Parasitized and Uninfected\n",
    "test_path = 'ubiris1_6/test'\n",
    "testing_names = os.listdir(test_path)\n"
   ]
  },
  {
   "cell_type": "code",
   "execution_count": 18,
   "id": "international-school",
   "metadata": {},
   "outputs": [],
   "source": [
    "# Get path to all images and save them in a list\n",
    "# image_paths and the corresponding label in image_paths\n",
    "image_paths = []\n",
    "image_classes = []\n",
    "class_id = 0\n",
    "\n",
    "#To make it easy to list all file names in a directory let us define a function\n",
    "#\n",
    "def imglist(path):\n",
    "    return [os.path.join(path, f) for f in os.listdir(path)]\n",
    "\n",
    "#Fill the placeholder empty lists with image path, classes, and add class ID number\n",
    "\n",
    "for testing_name in testing_names:\n",
    "    dir = os.path.join(test_path, testing_name)\n",
    "    class_path = imglist(dir)\n",
    "    image_paths+=class_path\n",
    "    image_classes+=[class_id]*len(class_path)\n",
    "    class_id+=1\n",
    "# Create List where all the descriptors will be stored\n",
    "des_list = []"
   ]
  },
  {
   "cell_type": "code",
   "execution_count": 19,
   "id": "female-grave",
   "metadata": {},
   "outputs": [],
   "source": [
    "# SIFT. ORB also works but didn;t work well for this example\n",
    "sift = cv2.xfeatures2d.SIFT_create()\n",
    "\n",
    "for image_path in image_paths:\n",
    "\tim = cv2.imread(image_path)\n",
    "\timg = cv2.cvtColor(im, cv2.COLOR_BGR2GRAY)\n",
    "\t# Adaptive Gaussian Thresholding\n",
    "\t#th1 = cv2.adaptiveThreshold(img,255,cv2.ADAPTIVE_THRESH_GAUSSIAN_C,cv2.THRESH_BINARY,11,2)\n",
    "\t# Otsu's thresholding\n",
    "\t#ret2,th2 = cv2.threshold(th1,0,255,cv2.THRESH_BINARY+cv2.THRESH_OTSU)\n",
    "\t# Otsu's thresholding after Gaussian filtering\n",
    "\t#blur = cv2.GaussianBlur(th2,(5,5),0)\n",
    "\t#ret3,th3 = cv2.threshold(blur,0,255,cv2.THRESH_BINARY+cv2.THRESH_OTSU)\n",
    "\t#img = img.astype('uint8')\n",
    "\tkpts, des = sift.detectAndCompute(img, None)\n",
    "\tdes_list.append((image_path, des))"
   ]
  },
  {
   "cell_type": "code",
   "execution_count": 20,
   "id": "legitimate-seafood",
   "metadata": {},
   "outputs": [],
   "source": [
    "# Calculate the histogram of features\n",
    "#vq Assigns codes from a code book to observations.\n",
    "from scipy.cluster.vq import vq    \n",
    "test_features = np.zeros((len(image_paths), k), \"float32\")\n",
    "for i in range(len(image_paths)):\n",
    "    words, distance = vq(des_list[i][1],voc)\n",
    "    for w in words:\n",
    "        test_features[i][w] += 1\n"
   ]
  },
  {
   "cell_type": "code",
   "execution_count": 21,
   "id": "round-diploma",
   "metadata": {},
   "outputs": [
    {
     "name": "stdout",
     "output_type": "stream",
     "text": [
      "true_class =['c', 'c', 'c', 'c', 'c', 'f', 'f', 'f', 'f', 'f', 'g', 'g', 'g', 'g', 'g', 'd', 'd', 'd', 'd', 'd', 'b', 'b', 'b', 'b', 'b', 'a', 'a', 'a', 'a', 'a', 'e', 'e', 'e', 'e', 'e']\n",
      "prediction =['a', 'c', 'c', 'a', 'g', 'a', 'e', 'e', 'c', 'f', 'g', 'g', 'd', 'g', 'g', 'd', 'd', 'c', 'g', 'd', 'e', 'f', 'e', 'f', 'a', 'a', 'a', 'a', 'a', 'a', 'g', 'g', 'e', 'b', 'd']\n",
      "accuracy =  0.45714285714285713\n",
      "[[5 0 0 0 0 0 0]\n",
      " [1 0 0 0 2 2 0]\n",
      " [2 0 2 0 0 0 1]\n",
      " [0 0 1 3 0 0 1]\n",
      " [0 1 0 1 1 0 2]\n",
      " [1 0 1 0 2 1 0]\n",
      " [0 0 0 1 0 0 4]]\n"
     ]
    },
    {
     "data": {
      "image/png": "[encoded data removed]",
      "text/plain": [
       "<Figure size 288x288 with 2 Axes>"
      ]
     },
     "metadata": {
      "needs_background": "light"
     },
     "output_type": "display_data"
    }
   ],
   "source": [
    "# Scale the features\n",
    "#Standardize features by removing the mean and scaling to unit variance\n",
    "#Scaler (stdSlr comes from the pickled file we imported)\n",
    "#test_features = stdSlr.transform(test_features)\n",
    "\n",
    "#######Until here most of the above code is similar to Train except for kmeans clustering####\n",
    "from sklearn.preprocessing import StandardScaler\n",
    "test_features = StandardScaler().fit_transform(test_features)\n",
    "\n",
    "#Report true class names so they can be compared with predicted classes\n",
    "true_class =  [classes_names[i] for i in image_classes]\n",
    "# Perform the predictions and report predicted class names. \n",
    "predictions =  [classes_names[i] for i in clf.predict(test_features)]\n",
    "\n",
    "\n",
    "#Print the true class and Predictions \n",
    "print (\"true_class =\"  + str(true_class))\n",
    "print (\"prediction =\"  + str(predictions))\n",
    "\n",
    "###############################################\n",
    "#To make it easy to understand the accuracy let us print the confusion matrix\n",
    "\n",
    "def showconfusionmatrix(cm):\n",
    "    pl.matshow(cm)\n",
    "    pl.title('Confusion matrix')\n",
    "    pl.colorbar()\n",
    "    pl.show()\n",
    "\n",
    "\n",
    "accuracy = accuracy_score(true_class, predictions)\n",
    "print (\"accuracy = \", accuracy)\n",
    "cm = confusion_matrix(true_class, predictions)\n",
    "print (cm)\n",
    "\n",
    "showconfusionmatrix(cm)"
   ]
  },
  {
   "cell_type": "code",
   "execution_count": null,
   "id": "proprietary-norman",
   "metadata": {},
   "outputs": [],
   "source": []
  }
 ],
 "metadata": {
  "kernelspec": {
   "display_name": "Python 3",
   "language": "python",
   "name": "python3"
  },
  "language_info": {
   "codemirror_mode": {
    "name": "ipython",
    "version": 3
   },
   "file_extension": ".py",
   "mimetype": "text/x-python",
   "name": "python",
   "nbconvert_exporter": "python",
   "pygments_lexer": "ipython3",
   "version": "3.6.9"
  }
 },
 "nbformat": 4,
 "nbformat_minor": 5
}
