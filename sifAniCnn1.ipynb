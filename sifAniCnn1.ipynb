{
 "cells": [
  {
   "cell_type": "code",
   "execution_count": 1,
   "id": "adopted-swiss",
   "metadata": {},
   "outputs": [],
   "source": [
    "#14.7.2021\n",
    "\n",
    "from sklearn import svm\n",
    "from sklearn.metrics import accuracy_score\n",
    "import numpy as np\n",
    "import cv2\n",
    "import os\n",
    "from scipy import ndimage\n",
    "from scipy.spatial import distance\n",
    "from sklearn.cluster import KMeans\n",
    "import cv2 \n",
    "import matplotlib.pyplot as plt\n",
    "%matplotlib inline\n",
    "\n",
    "# Import datasets, classifiers and performance metrics\n",
    "from sklearn import datasets, svm, metrics\n",
    "from sklearn.model_selection import train_test_split\n"
   ]
  },
  {
   "cell_type": "code",
   "execution_count": 19,
   "id": "supposed-worthy",
   "metadata": {},
   "outputs": [],
   "source": [
    "train_path = 'iriseye1/train'  # Folder Names are Parasitized and Uninfected\n",
    "training_names = os.listdir(train_path)\n",
    "\n",
    "# Get path to all images and save them in a list\n",
    "# image_paths and the corresponding label in image_paths\n",
    "image_paths = []\n",
    "image_classes = []\n",
    "class_id = 0\n",
    "\n",
    "#To make it easy to list all file names in a directory let us define a function\n",
    "#\n",
    "def imglist(path):\n",
    "\treturn [os.path.join(path, f) for f in os.listdir(path)]\n",
    "\n",
    "#Fill the placeholder empty lists with image path, classes, and add class ID number\n",
    "for training_name in training_names:\n",
    "\tdir = os.path.join(train_path, training_name)\n",
    "\tclass_path = imglist(dir)\n",
    "\timage_paths+=class_path\n",
    "\timage_classes+=[class_id]*len(class_path)\n",
    "\tclass_id+=1\n",
    "\n",
    "# Create feature extraction and keypoint detector objects\n",
    "    #SIFT is not available anymore in openCV    \n",
    "# Create List where all the descriptors will be stored\n",
    "des_list = []"
   ]
  },
  {
   "cell_type": "code",
   "execution_count": 20,
   "id": "funny-modem",
   "metadata": {},
   "outputs": [
    {
     "name": "stdout",
     "output_type": "stream",
     "text": [
      "[('iriseye1/train/2/002L_2.jpg', array([[24.,  3.,  0., ...,  0.,  0.,  0.],\n",
      "       [47.,  1.,  0., ...,  1.,  0.,  0.],\n",
      "       [ 1.,  1.,  0., ...,  1.,  0.,  0.],\n",
      "       ...,\n",
      "       [ 1.,  0.,  0., ...,  0.,  0.,  1.],\n",
      "       [40.,  0.,  0., ...,  2.,  1.,  0.],\n",
      "       [42.,  1.,  0., ...,  4.,  2.,  0.]], dtype=float32)), ('iriseye1/train/2/002L_1.jpg', array([[ 1.,  0.,  0., ..., 22.,  1.,  1.],\n",
      "       [26.,  2.,  0., ...,  0.,  0.,  0.],\n",
      "       [ 1.,  1.,  0., ...,  0.,  0.,  0.],\n",
      "       ...,\n",
      "       [ 3.,  1.,  0., ...,  3.,  0.,  2.],\n",
      "       [ 1.,  0.,  0., ...,  0.,  0.,  0.],\n",
      "       [36.,  0.,  0., ...,  0.,  0.,  0.]], dtype=float32)), ('iriseye1/train/2/002L_3.jpg', array([[ 1.,  0.,  0., ..., 20.,  0.,  0.],\n",
      "       [ 8.,  4.,  0., ...,  0.,  0.,  0.],\n",
      "       [ 1., 16., 51., ...,  0.,  0.,  0.],\n",
      "       ...,\n",
      "       [55.,  3.,  0., ...,  1.,  0.,  1.],\n",
      "       [ 3.,  1.,  0., ...,  1.,  0.,  1.],\n",
      "       [ 1.,  0.,  0., ...,  0.,  0.,  1.]], dtype=float32)), ('iriseye1/train/3/003L_2.jpg', array([[  0.,   0.,   0., ...,   3.,   0.,   0.],\n",
      "       [187.,  20.,   0., ...,   4.,  10.,  14.],\n",
      "       [  0.,   0.,   1., ...,   0.,   0.,   0.],\n",
      "       ...,\n",
      "       [  3.,   0.,   0., ...,   0.,   0.,   0.],\n",
      "       [ 44.,   2.,   0., ...,   3.,   0.,   0.],\n",
      "       [ 58.,   2.,   0., ...,   0.,   0.,   0.]], dtype=float32)), ('iriseye1/train/3/003L_3.jpg', array([[ 0.,  3.,  3., ...,  0.,  0.,  0.],\n",
      "       [ 0.,  0.,  3., ...,  0.,  0.,  0.],\n",
      "       [83., 11.,  0., ...,  3.,  6.,  4.],\n",
      "       ...,\n",
      "       [56.,  1.,  0., ...,  0.,  0.,  0.],\n",
      "       [62.,  2.,  0., ...,  0.,  0.,  0.],\n",
      "       [92.,  9.,  0., ..., 24., 14.,  2.]], dtype=float32)), ('iriseye1/train/3/003L_1.jpg', array([[ 0.,  1.,  3., ..., 41.,  0.,  0.],\n",
      "       [ 1.,  0.,  0., ...,  1.,  0.,  0.],\n",
      "       [70.,  9.,  0., ...,  4.,  3.,  1.],\n",
      "       ...,\n",
      "       [ 4.,  1.,  0., ...,  0.,  0.,  0.],\n",
      "       [ 2.,  0.,  0., ...,  2.,  0.,  3.],\n",
      "       [71.,  4.,  0., ...,  3.,  1.,  2.]], dtype=float32)), ('iriseye1/train/4/004L_2.jpg', array([[72.,  1.,  0., ..., 11.,  0.,  0.],\n",
      "       [56.,  0.,  0., ..., 31.,  4.,  0.],\n",
      "       [61.,  6.,  0., ...,  5.,  1.,  0.],\n",
      "       ...,\n",
      "       [ 1.,  0.,  0., ...,  2.,  0.,  2.],\n",
      "       [81.,  6.,  0., ..., 12.,  8.,  0.],\n",
      "       [ 2.,  0.,  0., ..., 10.,  1.,  1.]], dtype=float32)), ('iriseye1/train/4/004L_1.jpg', array([[46.,  1.,  0., ...,  0.,  0.,  0.],\n",
      "       [37.,  0.,  0., ...,  0.,  0.,  0.],\n",
      "       [ 1.,  1.,  1., ...,  0.,  0.,  0.],\n",
      "       ...,\n",
      "       [48.,  2.,  0., ...,  2.,  0.,  0.],\n",
      "       [ 3.,  0.,  0., ...,  0.,  0.,  0.],\n",
      "       [ 2.,  0.,  0., ...,  0.,  0.,  0.]], dtype=float32)), ('iriseye1/train/4/004L_3.jpg', array([[ 1.,  3.,  1., ...,  0.,  0.,  0.],\n",
      "       [45.,  1.,  0., ...,  5.,  0.,  0.],\n",
      "       [69.,  5.,  0., ..., 18.,  7.,  1.],\n",
      "       ...,\n",
      "       [29.,  0.,  0., ...,  7.,  4.,  0.],\n",
      "       [ 1.,  0.,  0., ...,  6.,  1.,  3.],\n",
      "       [ 2.,  1.,  0., ...,  4.,  0.,  0.]], dtype=float32)), ('iriseye1/train/5/005L_3.jpg', array([[48.,  0.,  0., ...,  8.,  3.,  1.],\n",
      "       [84.,  1.,  0., ...,  6.,  2.,  3.],\n",
      "       [49.,  3.,  0., ..., 10.,  8.,  3.],\n",
      "       ...,\n",
      "       [ 1.,  0.,  0., ..., 11.,  2.,  4.],\n",
      "       [43.,  0.,  0., ...,  3.,  1.,  0.],\n",
      "       [76.,  4.,  0., ...,  0.,  0.,  0.]], dtype=float32)), ('iriseye1/train/5/005L_2.jpg', array([[58.,  8.,  0., ..., 16.,  1.,  0.],\n",
      "       [44.,  0.,  0., ..., 12.,  0.,  0.],\n",
      "       [ 6.,  6.,  0., ...,  0.,  0.,  0.],\n",
      "       ...,\n",
      "       [51.,  1.,  0., ...,  0.,  0.,  0.],\n",
      "       [47.,  0.,  0., ...,  5.,  1.,  0.],\n",
      "       [43.,  1.,  0., ...,  3.,  1.,  1.]], dtype=float32)), ('iriseye1/train/5/005L_1.jpg', array([[ 1.,  0.,  0., ...,  9.,  0.,  2.],\n",
      "       [35.,  1.,  0., ...,  8.,  0.,  0.],\n",
      "       [56.,  0.,  0., ..., 13.,  0.,  0.],\n",
      "       ...,\n",
      "       [ 1.,  0.,  0., ...,  4.,  1.,  2.],\n",
      "       [81.,  8.,  0., ..., 12.,  5.,  0.],\n",
      "       [ 1.,  0.,  0., ...,  6.,  2.,  4.]], dtype=float32)), ('iriseye1/train/6/006L_2.jpg', array([[211.,   5.,   0., ...,   0.,   0.,  13.],\n",
      "       [ 24.,  63.,   0., ...,   5.,   3.,   2.],\n",
      "       [  0.,   0.,   0., ...,  31.,   0.,   0.],\n",
      "       ...,\n",
      "       [ 42.,   1.,   0., ...,   2.,   6.,   3.],\n",
      "       [ 54.,   0.,   0., ...,   4.,   2.,   1.],\n",
      "       [ 61.,   1.,   0., ...,   2.,   1.,   0.]], dtype=float32)), ('iriseye1/train/6/006L_3.jpg', array([[42.,  1.,  0., ...,  3.,  2.,  3.],\n",
      "       [53.,  2.,  0., ...,  2.,  0.,  0.],\n",
      "       [68.,  1.,  0., ...,  8.,  6.,  1.],\n",
      "       ...,\n",
      "       [29.,  0.,  0., ...,  1.,  1.,  5.],\n",
      "       [75.,  1.,  0., ...,  1.,  0.,  0.],\n",
      "       [58.,  1.,  0., ...,  2.,  1.,  3.]], dtype=float32)), ('iriseye1/train/6/006L_1.jpg', array([[64.,  1.,  0., ...,  0.,  0.,  0.],\n",
      "       [49.,  1.,  0., ...,  2.,  1.,  5.],\n",
      "       [ 2.,  1.,  0., ...,  1.,  0.,  0.],\n",
      "       ...,\n",
      "       [45.,  1.,  0., ...,  1.,  0.,  2.],\n",
      "       [73.,  6.,  0., ...,  2.,  1.,  1.],\n",
      "       [62.,  1.,  0., ...,  2.,  1.,  1.]], dtype=float32)), ('iriseye1/train/1/001L_2.jpg', array([[ 1.,  0.,  0., ...,  6.,  0.,  1.],\n",
      "       [ 0.,  2.,  2., ...,  4.,  0.,  0.],\n",
      "       [ 2.,  0.,  0., ...,  1.,  0.,  1.],\n",
      "       ...,\n",
      "       [51.,  2.,  0., ...,  1.,  0.,  0.],\n",
      "       [83.,  5.,  0., ...,  0.,  0.,  0.],\n",
      "       [51.,  1.,  0., ...,  0.,  0.,  0.]], dtype=float32)), ('iriseye1/train/1/001L_1.jpg', array([[58.,  0.,  0., ...,  5.,  0.,  1.],\n",
      "       [55.,  1.,  0., ...,  5.,  1.,  1.],\n",
      "       [ 0.,  0.,  1., ...,  0.,  0.,  0.],\n",
      "       ...,\n",
      "       [35.,  1.,  0., ...,  1.,  1.,  2.],\n",
      "       [ 0.,  0.,  0., ...,  0.,  0.,  2.],\n",
      "       [59.,  4.,  0., ...,  3.,  2.,  1.]], dtype=float32)), ('iriseye1/train/1/001L_3.jpg', array([[ 1.,  1.,  0., ...,  6.,  0.,  1.],\n",
      "       [58.,  0.,  0., ..., 14.,  3.,  0.],\n",
      "       [49.,  1.,  0., ..., 12.,  3.,  1.],\n",
      "       ...,\n",
      "       [ 2.,  0.,  0., ...,  2.,  0.,  2.],\n",
      "       [55.,  2.,  0., ...,  1.,  1.,  4.],\n",
      "       [49.,  1.,  0., ..., 25., 33.,  8.]], dtype=float32))]\n",
      "---------------------\n",
      "[[ 1.  1.  0. ...  6.  0.  1.]\n",
      " [58.  0.  0. ... 14.  3.  0.]\n",
      " [49.  1.  0. ... 12.  3.  1.]\n",
      " ...\n",
      " [ 2.  0.  0. ...  2.  0.  2.]\n",
      " [55.  2.  0. ...  1.  1.  4.]\n",
      " [49.  1.  0. ... 25. 33.  8.]]\n"
     ]
    }
   ],
   "source": [
    "sift = cv2.xfeatures2d.SIFT_create()\n",
    "\n",
    "for image_path in image_paths:\n",
    "\tim = cv2.imread(image_path)\n",
    "\timg = cv2.cvtColor(im, cv2.COLOR_BGR2GRAY)\n",
    "\t# Adaptive Gaussian Thresholding\n",
    "\t#th1 = cv2.adaptiveThreshold(img,255,cv2.ADAPTIVE_THRESH_GAUSSIAN_C,cv2.THRESH_BINARY,11,2)\n",
    "\t# Otsu's thresholding\n",
    "\t#ret2,th2 = cv2.threshold(th1,0,255,cv2.THRESH_BINARY+cv2.THRESH_OTSU)\n",
    "\t# Otsu's thresholding after Gaussian filtering\n",
    "\t#blur = cv2.GaussianBlur(th2,(5,5),0)\n",
    "\t#ret3,th3 = cv2.threshold(blur,0,255,cv2.THRESH_BINARY+cv2.THRESH_OTSU)\n",
    "\t#img = img.astype('uint8')\n",
    "\tkpts, des = sift.detectAndCompute(img, None)\n",
    "\tdes_list.append((image_path, des))\n",
    "print(des_list)\n",
    "print(\"---------------------\")\n",
    "print(des)"
   ]
  },
  {
   "cell_type": "code",
   "execution_count": 21,
   "id": "progressive-acquisition",
   "metadata": {},
   "outputs": [
    {
     "data": {
      "text/plain": [
       "array([  1.,   1.,   0.,   0.,   0.,   0.,   0.,   0., 178.,   5.,   0.,\n",
       "         0.,   0.,   0.,   0.,   3., 180.,  14.,   0.,   1.,  12.,   0.,\n",
       "         0.,   7.,  10.,   1.,   0.,   4.,  42.,   1.,   0.,   1.,   1.,\n",
       "         0.,   0.,   0.,   0.,   0.,   0.,   0., 180.,  15.,   0.,   0.,\n",
       "         0.,   0.,   0.,   1., 180.,  44.,   0.,   2.,   8.,   2.,   0.,\n",
       "         5.,  16.,   3.,   0.,   3.,  25.,  12.,   4.,   3.,   1.,   0.,\n",
       "         0.,   0.,   0.,   0.,   0.,   0., 180.,   2.,   0.,   0.,   0.,\n",
       "         0.,   0.,   9., 180.,   5.,   0.,   0.,   4.,   5.,   1.,  36.,\n",
       "        19.,   0.,   0.,   0.,  16.,  22.,   3.,   6.,   1.,   0.,   0.,\n",
       "         0.,   0.,   0.,   0.,   0., 162.,   5.,   0.,   0.,   0.,   0.,\n",
       "         0.,   1., 180.,  15.,   0.,   0.,   6.,   1.,   0.,   5.,  18.,\n",
       "         1.,   0.,   0.,  24.,   6.,   0.,   1.], dtype=float32)"
      ]
     },
     "execution_count": 21,
     "metadata": {},
     "output_type": "execute_result"
    }
   ],
   "source": [
    "des[0]"
   ]
  },
  {
   "cell_type": "code",
   "execution_count": 22,
   "id": "important-exploration",
   "metadata": {},
   "outputs": [
    {
     "data": {
      "text/plain": [
       "(173, 128)"
      ]
     },
     "execution_count": 22,
     "metadata": {},
     "output_type": "execute_result"
    }
   ],
   "source": [
    "des.shape   #that are keypoints, you have to clustering them----> results will be clusters of keypoints---> each cluster is feature"
   ]
  },
  {
   "cell_type": "code",
   "execution_count": 23,
   "id": "dependent-orbit",
   "metadata": {},
   "outputs": [
    {
     "name": "stdout",
     "output_type": "stream",
     "text": [
      "KMeans(algorithm='auto', copy_x=True, init='k-means++', max_iter=300,\n",
      "       n_clusters=100, n_init=4, n_jobs=None, precompute_distances='auto',\n",
      "       random_state=0, tol=0.0001, verbose=0)\n",
      "[[ 1.0000000e+00  1.0000000e+01  1.9000000e+01 ...  0.0000000e+00\n",
      "   0.0000000e+00  1.2000000e+01]\n",
      " [ 6.1900002e+01  1.2000008e+00  0.0000000e+00 ...  9.5000000e+00\n",
      "   1.1000001e+00  0.0000000e+00]\n",
      " [ 1.6000000e+01  3.1000000e+01  9.5000000e+00 ...  6.5000000e+00\n",
      "   1.0000000e+00  5.0000000e+00]\n",
      " ...\n",
      " [ 6.9000000e+01  5.0000000e+00  0.0000000e+00 ...  4.0000000e+00\n",
      "   0.0000000e+00  0.0000000e+00]\n",
      " [ 3.5000000e+01  0.0000000e+00  0.0000000e+00 ...  2.6000000e+01\n",
      "   0.0000000e+00  4.0000000e+00]\n",
      " [ 1.2857151e+00  4.2857265e-01 -4.7683716e-07 ...  4.2857170e-01\n",
      "   2.8571463e-01  4.4285712e+00]]\n"
     ]
    }
   ],
   "source": [
    "from sklearn.cluster import KMeans\n",
    "kmeans = KMeans(init=\"k-means++\", n_clusters=100, n_init=4,random_state=0)\n",
    "#X=descriptors\n",
    "kmeans.fit(des)\n",
    "visual_words = kmeans.cluster_centers_\n",
    "print(kmeans)\n",
    "print(visual_words)"
   ]
  },
  {
   "cell_type": "code",
   "execution_count": 24,
   "id": "intellectual-smooth",
   "metadata": {},
   "outputs": [
    {
     "data": {
      "text/plain": [
       "(100, 128)"
      ]
     },
     "execution_count": 24,
     "metadata": {},
     "output_type": "execute_result"
    }
   ],
   "source": [
    "visual_words.shape   #each cluster is feature---> this=visual_words is test mn."
   ]
  },
  {
   "cell_type": "code",
   "execution_count": 25,
   "id": "relative-heart",
   "metadata": {},
   "outputs": [
    {
     "data": {
      "text/plain": [
       "array([  1.,  10.,  19.,   5.,   2.,   1.,  11.,  15.,  10.,  33.,  20.,\n",
       "         2.,   0.,   4.,  50.,  77.,   5.,   7.,   5.,   8.,  12.,  40.,\n",
       "        61.,  15.,  17.,   1.,   0.,   0.,   1.,   6.,  23.,  55.,  43.,\n",
       "         0.,   0.,   0.,   1.,   1.,  24.,  78., 131.,   8.,   1.,   1.,\n",
       "         7.,  41., 119., 131.,  11.,   3.,   1.,   2.,  60., 131., 131.,\n",
       "        42.,   1.,   0.,   0.,   0.,   2.,  25.,  72., 131.,  40.,   0.,\n",
       "         0.,   0.,   0.,   1.,  79., 111., 131.,  80.,  20.,  16.,  12.,\n",
       "         9.,  26.,  81.,  35.,  31.,  27.,  82., 111.,  72.,  18.,  21.,\n",
       "        32.,   2.,   0.,   2.,   6.,  12.,  26., 125.,  14.,   7.,   1.,\n",
       "         0.,   1.,   2.,  44.,  78.,  20.,  17.,  11.,  16.,  12.,   6.,\n",
       "        34.,  33.,  26.,  19.,  16.,  46.,  22.,   1.,   1.,   2.,  57.,\n",
       "        55.,  15.,   1.,   0.,   0.,   0.,  12.], dtype=float32)"
      ]
     },
     "execution_count": 25,
     "metadata": {},
     "output_type": "execute_result"
    }
   ],
   "source": [
    "visual_words[0]  #first feature, for first image=first cluster"
   ]
  },
  {
   "cell_type": "code",
   "execution_count": 11,
   "id": "colonial-chair",
   "metadata": {},
   "outputs": [
    {
     "ename": "NameError",
     "evalue": "name 'build_histogram' is not defined",
     "output_type": "error",
     "traceback": [
      "\u001b[0;31m---------------------------------------------------------------------------\u001b[0m",
      "\u001b[0;31mNameError\u001b[0m                                 Traceback (most recent call last)",
      "\u001b[0;32m<ipython-input-11-05e89adec925>\u001b[0m in \u001b[0;36m<module>\u001b[0;34m\u001b[0m\n\u001b[1;32m      1\u001b[0m \u001b[0;31m#if (descriptor is not None):https://towardsdatascience.com/bag-of-visual-words-in-a-nutshell-9ceea97ce0fb\u001b[0m\u001b[0;34m\u001b[0m\u001b[0;34m\u001b[0m\u001b[0;34m\u001b[0m\u001b[0m\n\u001b[0;32m----> 2\u001b[0;31m \u001b[0mhistogram\u001b[0m \u001b[0;34m=\u001b[0m \u001b[0mbuild_histogram\u001b[0m\u001b[0;34m(\u001b[0m\u001b[0mvisual_words\u001b[0m\u001b[0;34m,\u001b[0m \u001b[0mkmeans\u001b[0m\u001b[0;34m)\u001b[0m\u001b[0;34m\u001b[0m\u001b[0;34m\u001b[0m\u001b[0m\n\u001b[0m\u001b[1;32m      3\u001b[0m \u001b[0mpreprocessed_image\u001b[0m\u001b[0;34m.\u001b[0m\u001b[0mappend\u001b[0m\u001b[0;34m(\u001b[0m\u001b[0mhistogram\u001b[0m\u001b[0;34m)\u001b[0m\u001b[0;34m\u001b[0m\u001b[0;34m\u001b[0m\u001b[0m\n",
      "\u001b[0;31mNameError\u001b[0m: name 'build_histogram' is not defined"
     ]
    }
   ],
   "source": [
    "#if (descriptor is not None):https://towardsdatascience.com/bag-of-visual-words-in-a-nutshell-9ceea97ce0fb\n",
    "histogram = build_histogram(visual_words, kmeans)\n",
    "preprocessed_image.append(histogram)"
   ]
  },
  {
   "cell_type": "code",
   "execution_count": 26,
   "id": "sized-example",
   "metadata": {},
   "outputs": [],
   "source": [
    "from scipy.cluster.vq import kmeans, vq\n",
    "\n",
    "k = 100  #k means with 100,600,500,300 clusters gives lower accuracy \n",
    "voc, variance = kmeans(des, k, 1) \n",
    "\n",
    "# Calculate the histogram of features and represent them as vector\n",
    "#vq Assigns codes from a code book to observations.\n",
    "im_features = np.zeros((len(image_paths), k), \"float32\")\n",
    "for i in range(len(image_paths)):\n",
    "\twords, distance = vq(des_list[i][1],voc)\n",
    "\tfor w in words:\n",
    "\t\tim_features[i][w] += 1"
   ]
  },
  {
   "cell_type": "code",
   "execution_count": 27,
   "id": "higher-visiting",
   "metadata": {},
   "outputs": [],
   "source": [
    "from sklearn.preprocessing import StandardScaler\n",
    "im_features = StandardScaler().fit_transform(im_features)"
   ]
  },
  {
   "cell_type": "code",
   "execution_count": 28,
   "id": "stable-crash",
   "metadata": {},
   "outputs": [],
   "source": [
    "from sklearn.neural_network import MLPClassifier\n",
    "clf = MLPClassifier(solver='adam', alpha=1e-5, hidden_layer_sizes=(200, ), random_state=1, max_iter=100000, activation='logistic')       #, batch_size=400)\n"
   ]
  },
  {
   "cell_type": "code",
   "execution_count": 29,
   "id": "bored-combat",
   "metadata": {},
   "outputs": [
    {
     "data": {
      "text/plain": [
       "MLPClassifier(activation='logistic', alpha=1e-05, batch_size='auto', beta_1=0.9,\n",
       "              beta_2=0.999, early_stopping=False, epsilon=1e-08,\n",
       "              hidden_layer_sizes=(200,), learning_rate='constant',\n",
       "              learning_rate_init=0.001, max_fun=15000, max_iter=100000,\n",
       "              momentum=0.9, n_iter_no_change=10, nesterovs_momentum=True,\n",
       "              power_t=0.5, random_state=1, shuffle=True, solver='adam',\n",
       "              tol=0.0001, validation_fraction=0.1, verbose=False,\n",
       "              warm_start=False)"
      ]
     },
     "execution_count": 29,
     "metadata": {},
     "output_type": "execute_result"
    }
   ],
   "source": [
    "# evaluate model using 10-fold cross validation\n",
    "from sklearn.model_selection import StratifiedKFold, cross_val_score\n",
    "kfold = StratifiedKFold(n_splits=3, shuffle=True, random_state=7)  #crossvalidation for better results, n_splits=10 cannot be greater than the number of members in each class\n",
    "results = cross_val_score(clf, im_features, np.array(image_classes), cv=kfold)\n",
    "clf.fit(im_features, np.array(image_classes))"
   ]
  },
  {
   "cell_type": "code",
   "execution_count": 30,
   "id": "similar-aircraft",
   "metadata": {},
   "outputs": [
    {
     "data": {
      "text/plain": [
       "['iriseye1cnn.pkl']"
      ]
     },
     "execution_count": 30,
     "metadata": {},
     "output_type": "execute_result"
    }
   ],
   "source": [
    "#Joblib dumps Python object into one file\n",
    "from sklearn.externals import joblib\n",
    "joblib.dump((clf, training_names, k, voc), \"iriseye1cnn.pkl\", compress=3) #izzvzela stdSlr"
   ]
  },
  {
   "cell_type": "code",
   "execution_count": null,
   "id": "altered-privacy",
   "metadata": {},
   "outputs": [],
   "source": []
  }
 ],
 "metadata": {
  "kernelspec": {
   "display_name": "Python 3",
   "language": "python",
   "name": "python3"
  },
  "language_info": {
   "codemirror_mode": {
    "name": "ipython",
    "version": 3
   },
   "file_extension": ".py",
   "mimetype": "text/x-python",
   "name": "python",
   "nbconvert_exporter": "python",
   "pygments_lexer": "ipython3",
   "version": "3.6.9"
  }
 },
 "nbformat": 4,
 "nbformat_minor": 5
}
