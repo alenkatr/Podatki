{
 "cells": [
  {
   "cell_type": "code",
   "execution_count": 1,
   "id": "norwegian-wisconsin",
   "metadata": {},
   "outputs": [],
   "source": [
    "#14.7.2021\n",
    "\n",
    "from sklearn import svm\n",
    "from sklearn.metrics import accuracy_score\n",
    "import numpy as np\n",
    "import cv2\n",
    "import os\n",
    "from scipy import ndimage\n",
    "from scipy.spatial import distance\n",
    "from sklearn.cluster import KMeans\n",
    "import cv2 \n",
    "import matplotlib.pyplot as plt\n",
    "%matplotlib inline\n",
    "\n",
    "# Import datasets, classifiers and performance metrics\n",
    "from sklearn import datasets, svm, metrics\n",
    "from sklearn.model_selection import train_test_split\n"
   ]
  },
  {
   "cell_type": "code",
   "execution_count": 2,
   "id": "controlling-leave",
   "metadata": {},
   "outputs": [],
   "source": [
    "train_path = 'ubiris1_6/train'  # Folder Names are Parasitized and Uninfected\n",
    "training_names = os.listdir(train_path)\n",
    "\n",
    "# Get path to all images and save them in a list\n",
    "# image_paths and the corresponding label in image_paths\n",
    "image_paths = []\n",
    "image_classes = []\n",
    "class_id = 0\n",
    "\n",
    "#To make it easy to list all file names in a directory let us define a function\n",
    "#\n",
    "def imglist(path):\n",
    "\treturn [os.path.join(path, f) for f in os.listdir(path)]\n",
    "\n",
    "#Fill the placeholder empty lists with image path, classes, and add class ID number\n",
    "for training_name in training_names:\n",
    "\tdir = os.path.join(train_path, training_name)\n",
    "\tclass_path = imglist(dir)\n",
    "\timage_paths+=class_path\n",
    "\timage_classes+=[class_id]*len(class_path)\n",
    "\tclass_id+=1\n",
    "\n",
    "# Create feature extraction and keypoint detector objects\n",
    "    #SIFT is not available anymore in openCV    \n",
    "# Create List where all the descriptors will be stored\n",
    "des_list = []"
   ]
  },
  {
   "cell_type": "code",
   "execution_count": 3,
   "id": "offshore-philadelphia",
   "metadata": {},
   "outputs": [
    {
     "name": "stdout",
     "output_type": "stream",
     "text": [
      "[('ubiris1_6/train/c/Img_3_1_4.jpg', array([[ 87.,  56.,   1., ...,   0.,   0.,   2.],\n",
      "       [  0.,   0.,   0., ...,   0.,   1., 131.],\n",
      "       [ 46.,  30.,   1., ...,   0.,   0.,  37.],\n",
      "       ...,\n",
      "       [  5.,   1.,   1., ...,   0.,   0.,  13.],\n",
      "       [  0.,   0.,   0., ...,   3.,   1.,   3.],\n",
      "       [ 32.,   0.,   0., ...,   1.,   6.,  25.]], dtype=float32)), ('ubiris1_6/train/c/Img_3_1_1.jpg', array([[ 2.,  0.,  1., ...,  0.,  0., 15.],\n",
      "       [41., 21.,  2., ...,  5.,  4.,  1.],\n",
      "       [98., 11.,  0., ..., 15., 36., 20.],\n",
      "       ...,\n",
      "       [ 7.,  9.,  5., ...,  1., 26., 33.],\n",
      "       [16., 21.,  3., ...,  2.,  3.,  4.],\n",
      "       [ 0.,  0.,  0., ...,  4.,  6.,  6.]], dtype=float32)), ('ubiris1_6/train/c/Img_3_1_3.jpg', array([[ 27.,   1.,   0., ...,   0.,   2.,  55.],\n",
      "       [121.,  20.,   0., ...,   5.,   3.,   2.],\n",
      "       [ 47.,   9.,   0., ...,   0.,   0.,  28.],\n",
      "       ...,\n",
      "       [  1.,   0.,   0., ...,   0.,   0.,  52.],\n",
      "       [ 14.,   1.,   0., ...,   2.,   0.,   0.],\n",
      "       [  0.,   0.,   0., ...,   2.,   1.,   9.]], dtype=float32)), ('ubiris1_6/train/c/Img_3_1_2.jpg', array([[  0.,   0.,   1., ...,   0.,   0.,   5.],\n",
      "       [ 14.,   0.,   0., ...,   0.,   0.,  70.],\n",
      "       [ 60., 124.,   6., ...,  30.,   2.,   4.],\n",
      "       ...,\n",
      "       [ 26.,   4.,   0., ...,   0.,   0.,   0.],\n",
      "       [  2.,   0.,   0., ...,  22.,   1.,   3.],\n",
      "       [134.,  15.,   1., ...,   0.,   0.,   2.]], dtype=float32)), ('ubiris1_6/train/c/Img_3_1_5.jpg', array([[ 21.,  13.,   0., ...,   0.,   1.,  10.],\n",
      "       [ 21.,   0.,   0., ...,   1.,   1.,   5.],\n",
      "       [  5.,   0.,   0., ...,   0.,   0.,   0.],\n",
      "       ...,\n",
      "       [ 86.,  59.,   5., ...,  12.,   1.,   1.],\n",
      "       [  1.,   3.,   1., ...,   0.,   0.,   0.],\n",
      "       [103.,   5.,   1., ...,  14.,  13.,  28.]], dtype=float32)), ('ubiris1_6/train/f/Img_6_1_1.jpg', array([[ 97.,  43.,  15., ...,  26.,   7.,  30.],\n",
      "       [ 29.,   9.,  15., ...,   5.,   0.,  75.],\n",
      "       [ 26.,   2.,   1., ...,  17.,   3.,  31.],\n",
      "       ...,\n",
      "       [  0.,   0.,   0., ...,   2.,  19., 131.],\n",
      "       [  0.,   0.,   0., ..., 118.,  48.,  23.],\n",
      "       [  4.,  44.,  25., ...,  17.,   3.,   4.]], dtype=float32)), ('ubiris1_6/train/f/Img_6_1_5.jpg', array([[119.,  35.,  15., ...,  16.,   9.,  29.],\n",
      "       [132.,   7.,   0., ...,   0.,   4.,  25.],\n",
      "       [ 91.,  12.,   0., ...,   0.,   0.,  26.],\n",
      "       ...,\n",
      "       [  0.,   0.,   0., ...,   0.,  42.,  93.],\n",
      "       [  8.,   0.,   0., ...,  15.,  22.,  58.],\n",
      "       [ 10.,  25.,  25., ...,  36.,  40.,  27.]], dtype=float32)), ('ubiris1_6/train/f/Img_6_1_3.jpg', array([[  0.,   0.,   0., ...,   0.,   1.,  67.],\n",
      "       [  0.,   0.,   0., ...,  85.,   9.,   1.],\n",
      "       [  8.,   4.,   4., ...,   1.,   0.,   6.],\n",
      "       ...,\n",
      "       [141.,   2.,   1., ...,   0.,   0.,   0.],\n",
      "       [ 21.,  32.,  23., ...,   0.,   0.,   0.],\n",
      "       [  0.,   2.,  29., ...,   0.,   0.,   0.]], dtype=float32)), ('ubiris1_6/train/f/Img_6_1_2.jpg', array([[  0.,   4.,  19., ...,   0.,   0.,   0.],\n",
      "       [ 49., 139.,   4., ...,   0.,   0.,   0.],\n",
      "       [ 33.,   1.,   0., ...,   1.,   2.,  14.],\n",
      "       ...,\n",
      "       [105.,   0.,   1., ...,   0.,   0.,   0.],\n",
      "       [  7.,   0.,   1., ...,  39.,  36.,  10.],\n",
      "       [  0.,   1.,   0., ...,   0.,   5.,  45.]], dtype=float32)), ('ubiris1_6/train/f/Img_6_1_4.jpg', array([[ 97.,  15.,   0., ...,   2.,   1.,   1.],\n",
      "       [102.,  57.,  22., ...,  25.,   6.,  25.],\n",
      "       [  3.,   4.,   8., ...,  19.,  16.,  15.],\n",
      "       ...,\n",
      "       [ 11.,  13.,  17., ...,   1.,  16.,  64.],\n",
      "       [  0.,   0.,   0., ...,   0.,   0.,  13.],\n",
      "       [  0.,   0.,   0., ...,   0.,  39.,  93.]], dtype=float32)), ('ubiris1_6/train/g/Img_7_1_2.jpg', array([[ 0.,  0.,  0., ...,  0.,  0.,  1.],\n",
      "       [ 0.,  0.,  0., ...,  0.,  0., 13.],\n",
      "       [54.,  5.,  0., ...,  1.,  0., 85.],\n",
      "       ...,\n",
      "       [ 6.,  3., 18., ..., 11.,  7.,  5.],\n",
      "       [ 3., 10., 22., ...,  1.,  0.,  0.],\n",
      "       [ 0.,  1.,  0., ..., 74., 11.,  6.]], dtype=float32)), ('ubiris1_6/train/g/Img_7_1_5.jpg', array([[  0.,   0.,   0., ...,   0.,   0.,  23.],\n",
      "       [ 34.,   2.,   1., ...,   2.,   1., 111.],\n",
      "       [ 21.,  27.,  17., ...,   0.,   1.,  16.],\n",
      "       ...,\n",
      "       [  0.,   1.,  19., ...,   0.,   0.,   0.],\n",
      "       [108.,   9.,   2., ...,   2.,   7.,   0.],\n",
      "       [ 57.,  65.,  29., ...,   3.,   0.,   0.]], dtype=float32)), ('ubiris1_6/train/g/Img_7_1_3.jpg', array([[84.,  7.,  0., ...,  1.,  0., 38.],\n",
      "       [ 0.,  0.,  0., ...,  0.,  0., 36.],\n",
      "       [41.,  4.,  1., ...,  1.,  1., 96.],\n",
      "       ...,\n",
      "       [ 4., 29., 19., ...,  8.,  0.,  0.],\n",
      "       [ 7., 10.,  8., ...,  7.,  0.,  1.],\n",
      "       [ 5.,  9., 16., ...,  0.,  0.,  0.]], dtype=float32)), ('ubiris1_6/train/g/Img_7_1_4.jpg', array([[ 0.,  0.,  0., ...,  5.,  8.,  3.],\n",
      "       [ 0.,  0.,  2., ..., 10.,  7., 17.],\n",
      "       [14., 10.,  7., ...,  0.,  2., 19.],\n",
      "       ...,\n",
      "       [ 0.,  0.,  0., ...,  5., 13., 56.],\n",
      "       [ 4.,  4.,  7., ...,  8., 21., 16.],\n",
      "       [ 5., 10., 17., ...,  0.,  0.,  0.]], dtype=float32)), ('ubiris1_6/train/g/Img_7_1_1.jpg', array([[ 0.,  0.,  1., ...,  0.,  0.,  0.],\n",
      "       [96.,  4.,  0., ...,  0.,  0., 38.],\n",
      "       [ 0.,  0.,  0., ..., 15.,  3.,  8.],\n",
      "       ...,\n",
      "       [ 0.,  2., 34., ...,  1.,  0.,  0.],\n",
      "       [ 0.,  1.,  1., ...,  0.,  0.,  1.],\n",
      "       [52., 67., 68., ...,  0.,  0.,  0.]], dtype=float32)), ('ubiris1_6/train/d/Img_4_1_3.jpg', array([[ 82.,  91.,  66., ...,   3.,   2.,  27.],\n",
      "       [ 10.,  64.,  20., ...,   0.,   1.,  41.],\n",
      "       [ 42.,  24.,   5., ...,   7.,  12.,  22.],\n",
      "       ...,\n",
      "       [138., 116.,   5., ...,   3.,   4.,   4.],\n",
      "       [  0.,   3.,  12., ...,   0.,   3.,   2.],\n",
      "       [  0.,   0.,   0., ...,   0.,   0.,   5.]], dtype=float32)), ('ubiris1_6/train/d/Img_4_1_5.jpg', array([[44., 27.,  4., ...,  5., 16., 22.],\n",
      "       [ 0.,  0.,  8., ...,  1.,  7., 13.],\n",
      "       [ 0.,  0., 14., ...,  0.,  2., 71.],\n",
      "       ...,\n",
      "       [ 4.,  7.,  1., ..., 10., 13., 20.],\n",
      "       [ 0.,  1., 57., ..., 16.,  2.,  7.],\n",
      "       [ 1.,  1.,  1., ...,  0.,  0.,  6.]], dtype=float32)), ('ubiris1_6/train/d/Img_4_1_1.jpg', array([[  0.,   0.,   0., ...,   0.,  12., 119.],\n",
      "       [ 16.,  14.,   7., ...,   0.,  11.,  41.],\n",
      "       [ 48.,  64.,   3., ...,   0.,   0.,  29.],\n",
      "       ...,\n",
      "       [ 11.,  22.,   4., ...,   0.,   0.,   2.],\n",
      "       [ 52.,  77.,  39., ...,   1.,   9.,  41.],\n",
      "       [ 61.,  91.,  28., ...,   0.,   0.,   0.]], dtype=float32)), ('ubiris1_6/train/d/Img_4_1_2.jpg', array([[ 7., 55., 23., ...,  1.,  6., 26.],\n",
      "       [ 0.,  0.,  9., ...,  3., 10., 40.],\n",
      "       [ 1.,  1.,  3., ...,  0.,  0.,  2.],\n",
      "       ...,\n",
      "       [ 0.,  0.,  0., ...,  0.,  3.,  4.],\n",
      "       [60., 50.,  6., ...,  0.,  1.,  3.],\n",
      "       [ 0.,  0.,  0., ...,  0.,  0.,  0.]], dtype=float32)), ('ubiris1_6/train/d/Img_4_1_4.jpg', array([[ 23.,  66.,  78., ...,   0.,   0.,  27.],\n",
      "       [  7.,  48.,  18., ...,   0.,   3.,  37.],\n",
      "       [  0.,   0.,  18., ...,   0.,   1.,  68.],\n",
      "       ...,\n",
      "       [ 43., 134.,  83., ...,  11.,   7.,   3.],\n",
      "       [  0.,   0.,   5., ...,   1.,   3.,  33.],\n",
      "       [  4.,   4.,   5., ...,  40.,  23.,  29.]], dtype=float32)), ('ubiris1_6/train/b/Img_b_1_4.jpg', array([[  8.,   0.,   0., ...,   0.,   8.,  61.],\n",
      "       [103.,  30.,   3., ...,   0.,   8.,  24.],\n",
      "       [146.,  10.,   0., ...,   3.,   2.,  21.],\n",
      "       ...,\n",
      "       [ 12.,  39.,   4., ...,  52.,  70.,   9.],\n",
      "       [  0.,   0.,   0., ...,  55.,  25.,  13.],\n",
      "       [  1.,   5.,   3., ...,  21.,   6.,   3.]], dtype=float32)), ('ubiris1_6/train/b/Img_b_1_1.jpg', array([[ 19.,   8.,   0., ...,   8.,  48.,  84.],\n",
      "       [134.,  26.,   0., ...,   1.,   0.,   5.],\n",
      "       [ 10.,   1.,   1., ...,   1.,  16.,  26.],\n",
      "       ...,\n",
      "       [  2.,  14.,  15., ...,  17.,   2.,   0.],\n",
      "       [  3.,  21., 105., ...,   0.,   0.,   0.],\n",
      "       [  0.,   0.,   0., ...,  13.,   5.,  22.]], dtype=float32)), ('ubiris1_6/train/b/Img_b_1_5.jpg', array([[ 11.,  11.,  19., ...,   4.,   2.,   0.],\n",
      "       [ 54.,   3.,   0., ...,   0.,   0.,   6.],\n",
      "       [ 72.,  80.,  10., ...,  16.,  27., 111.],\n",
      "       ...,\n",
      "       [  0.,   0.,  19., ...,   0.,   0.,  11.],\n",
      "       [ 27.,  15.,   0., ...,  52.,  17.,   3.],\n",
      "       [  4.,   3.,   0., ...,  80.,   5.,   5.]], dtype=float32)), ('ubiris1_6/train/b/Img_b_1_2.jpg', array([[21.,  8.,  1., ...,  0.,  0., 92.],\n",
      "       [36.,  2.,  1., ...,  5.,  8., 18.],\n",
      "       [34., 52.,  8., ...,  2.,  2.,  9.],\n",
      "       ...,\n",
      "       [49., 29., 19., ..., 10.,  0.,  0.],\n",
      "       [ 1., 31., 10., ..., 35., 54., 14.],\n",
      "       [ 2., 32., 59., ..., 34.,  4.,  0.]], dtype=float32)), ('ubiris1_6/train/b/Img_b_1_3.jpg', array([[71.,  1.,  0., ...,  0.,  2., 43.],\n",
      "       [43.,  9.,  5., ..., 11., 17., 23.],\n",
      "       [24.,  6.,  0., ..., 16.,  7., 60.],\n",
      "       ...,\n",
      "       [ 4., 41., 59., ...,  9.,  0.,  0.],\n",
      "       [17., 39.,  9., ..., 40., 34.,  4.],\n",
      "       [ 0.,  0.,  0., ..., 88., 16., 17.]], dtype=float32)), ('ubiris1_6/train/a/Img_a_1_1.jpg', array([[11., 17.,  4., ..., 34., 19., 14.],\n",
      "       [ 0.,  0.,  0., ...,  5.,  1.,  6.],\n",
      "       [13.,  7.,  3., ...,  9., 20., 51.],\n",
      "       ...,\n",
      "       [ 0.,  0.,  0., ..., 22., 17., 51.],\n",
      "       [ 8., 11., 13., ...,  0.,  0.,  0.],\n",
      "       [10., 13., 17., ...,  0.,  0.,  1.]], dtype=float32)), ('ubiris1_6/train/a/Img_a_1_4.jpg', array([[ 41.,  33.,  41., ...,  34.,   0.,   0.],\n",
      "       [123.,  17.,   0., ...,   3.,  10.,  16.],\n",
      "       [ 22.,  13.,   0., ...,   0.,   0.,   1.],\n",
      "       ...,\n",
      "       [ 24.,   3.,   0., ...,   2.,   7.,  41.],\n",
      "       [  0.,   0.,   0., ...,   1.,  29.,  84.],\n",
      "       [  0.,   0.,   0., ...,   2.,   7.,  20.]], dtype=float32)), ('ubiris1_6/train/a/Img_a_1_3.jpg', array([[ 27.,  31.,  31., ...,   1.,  22.,  72.],\n",
      "       [ 17.,  46.,  25., ...,   0.,   3.,  15.],\n",
      "       [ 12.,   9.,   6., ...,   9.,  24.,  37.],\n",
      "       ...,\n",
      "       [  1.,   0.,   0., ...,   0.,   0.,   0.],\n",
      "       [148.,  23.,   4., ...,   0.,   0.,   0.],\n",
      "       [  2.,   1.,   0., ...,  12.,  19.,  15.]], dtype=float32)), ('ubiris1_6/train/a/Img_a_1_2.jpg', array([[  0.,   8.,  13., ...,  20.,  12.,   8.],\n",
      "       [ 11.,  20.,  33., ...,   0.,   1.,   9.],\n",
      "       [119.,   2.,   1., ...,  11.,   5.,   9.],\n",
      "       ...,\n",
      "       [ 14.,   9.,   5., ...,   0.,   0.,  48.],\n",
      "       [ 72.,  29.,   6., ...,   0.,   0.,   6.],\n",
      "       [  5.,   2.,   0., ...,   7.,  24.,  14.]], dtype=float32)), ('ubiris1_6/train/a/Img_a_1_5.jpg', array([[ 17.,  28.,  16., ...,   2.,   5., 122.],\n",
      "       [144.,  49.,   0., ...,   1.,   1.,  32.],\n",
      "       [  0.,   0.,  10., ...,   7.,   2.,   6.],\n",
      "       ...,\n",
      "       [ 69.,  30.,   3., ...,   0.,   0.,   0.],\n",
      "       [  0.,   1.,  24., ...,   4.,   8.,  11.],\n",
      "       [  0.,   0.,   0., ...,   2.,  18.,  18.]], dtype=float32)), ('ubiris1_6/train/e/Img_5_1_1.jpg', array([[167.,  23.,   4., ...,   2.,   0.,   2.],\n",
      "       [ 83.,  93.,  18., ...,  50.,  13.,   7.],\n",
      "       [ 52.,   7.,   2., ...,   1.,   2.,   6.],\n",
      "       ...,\n",
      "       [ 15.,  22.,  36., ...,  70.,  50.,  14.],\n",
      "       [ 77.,   2.,   1., ...,  10.,  11.,  17.],\n",
      "       [  5.,   2.,  23., ...,  17.,   3.,   3.]], dtype=float32)), ('ubiris1_6/train/e/Img_5_1_4.jpg', array([[134., 118.,  10., ...,   0.,   0.,   3.],\n",
      "       [ 81.,   3.,   0., ...,   1.,   5.,  32.],\n",
      "       [ 98.,  36.,   3., ...,   0.,   0.,   4.],\n",
      "       ...,\n",
      "       [ 16.,   1.,   0., ...,   2.,   0.,   3.],\n",
      "       [ 73.,  54.,  20., ...,   1.,   0.,   1.],\n",
      "       [  0.,   0.,   0., ...,  66.,  28.,  14.]], dtype=float32)), ('ubiris1_6/train/e/Img_5_1_5.jpg', array([[150.,  92.,   8., ...,   8.,   1.,  11.],\n",
      "       [  0.,   0.,  54., ...,  20.,  77.,  11.],\n",
      "       [  3.,   8., 113., ...,  15.,   9.,  16.],\n",
      "       ...,\n",
      "       [  5.,   1.,   2., ...,   3.,   0.,   3.],\n",
      "       [ 14.,   0.,   0., ...,   6.,   1.,   0.],\n",
      "       [146.,  36.,   3., ...,   7.,  11.,  15.]], dtype=float32)), ('ubiris1_6/train/e/Img_5_1_3.jpg', array([[157.,  82.,   2., ...,   0.,   0.,   0.],\n",
      "       [  3.,   5.,   1., ...,   0.,   4.,  39.],\n",
      "       [  1.,   1.,   2., ...,  43.,  26.,   6.],\n",
      "       ...,\n",
      "       [  8.,  13.,  16., ...,  36.,  26.,   6.],\n",
      "       [ 53.,  15.,   7., ...,  44.,   5.,   8.],\n",
      "       [  1.,   0.,   0., ...,  46.,  21.,  22.]], dtype=float32)), ('ubiris1_6/train/e/Img_5_1_2.jpg', array([[  0.,   0.,   0., ...,   9.,  41.,  65.],\n",
      "       [117.,  27.,   1., ...,   0.,   0.,   6.],\n",
      "       [109.,  49.,  15., ...,   1.,   9.,  15.],\n",
      "       ...,\n",
      "       [ 39.,  82.,  66., ...,  14.,  71., 117.],\n",
      "       [  1.,   1.,   0., ...,   5.,   1.,   0.],\n",
      "       [  1.,   0.,   0., ...,  14.,   3.,  10.]], dtype=float32))]\n",
      "---------------------\n",
      "[[  0.   0.   0. ...   9.  41.  65.]\n",
      " [117.  27.   1. ...   0.   0.   6.]\n",
      " [109.  49.  15. ...   1.   9.  15.]\n",
      " ...\n",
      " [ 39.  82.  66. ...  14.  71. 117.]\n",
      " [  1.   1.   0. ...   5.   1.   0.]\n",
      " [  1.   0.   0. ...  14.   3.  10.]]\n"
     ]
    }
   ],
   "source": [
    "sift = cv2.xfeatures2d.SIFT_create()\n",
    "\n",
    "for image_path in image_paths:\n",
    "\tim = cv2.imread(image_path)\n",
    "\timg = cv2.cvtColor(im, cv2.COLOR_BGR2GRAY)\n",
    "\t# Adaptive Gaussian Thresholding\n",
    "\t#th1 = cv2.adaptiveThreshold(img,255,cv2.ADAPTIVE_THRESH_GAUSSIAN_C,cv2.THRESH_BINARY,11,2)\n",
    "\t# Otsu's thresholding\n",
    "\t#ret2,th2 = cv2.threshold(th1,0,255,cv2.THRESH_BINARY+cv2.THRESH_OTSU)\n",
    "\t# Otsu's thresholding after Gaussian filtering\n",
    "\t#blur = cv2.GaussianBlur(th2,(5,5),0)\n",
    "\t#ret3,th3 = cv2.threshold(blur,0,255,cv2.THRESH_BINARY+cv2.THRESH_OTSU)\n",
    "\t#img = img.astype('uint8')\n",
    "\tkpts, des = sift.detectAndCompute(img, None)\n",
    "\tdes_list.append((image_path, des))\n",
    "print(des_list)\n",
    "print(\"---------------------\")\n",
    "print(des)"
   ]
  },
  {
   "cell_type": "code",
   "execution_count": 6,
   "id": "convenient-criticism",
   "metadata": {},
   "outputs": [
    {
     "data": {
      "text/plain": [
       "array([  0.,   0.,   0.,   0.,   6.,  23.,  23.,   2.,  59.,   5.,   0.,\n",
       "         0.,   6.,  34.,  13.,  13., 101.,  27.,   0.,   0.,   1.,   2.,\n",
       "         1.,   5.,   2.,   1.,   0.,   0.,   8.,  21.,   4.,   2.,  28.,\n",
       "        22.,   0.,   0.,   3.,  37.,  65.,  35.,  83.,  21.,   0.,   0.,\n",
       "        37., 131.,  55.,  27., 131.,  92.,   0.,   0.,   5.,  10.,   5.,\n",
       "        21.,  29.,   4.,   0.,   0.,   7.,  39.,  26.,  28., 131.,  21.,\n",
       "         0.,   0.,   9.,  25.,  14.,  80.,  50.,   2.,   0.,   1., 131.,\n",
       "       131.,  22.,  42., 131.,   5.,   0.,   0.,  16.,  19.,  14., 108.,\n",
       "        47.,   0.,   0.,   0.,   0.,   3.,  40.,  90.,  79.,  62.,   5.,\n",
       "         3.,  18.,  26.,   5.,  23.,  35.,  32.,   6.,  12., 119.,  24.,\n",
       "         8.,  26., 131.,   0.,   0.,   0.,  14.,   6.,   9., 131.,  36.,\n",
       "         0.,   0.,   0.,   2.,   9.,  41.,  65.], dtype=float32)"
      ]
     },
     "execution_count": 6,
     "metadata": {},
     "output_type": "execute_result"
    }
   ],
   "source": [
    "des[0]"
   ]
  },
  {
   "cell_type": "code",
   "execution_count": 7,
   "id": "neither-ranch",
   "metadata": {},
   "outputs": [
    {
     "data": {
      "text/plain": [
       "(155, 128)"
      ]
     },
     "execution_count": 7,
     "metadata": {},
     "output_type": "execute_result"
    }
   ],
   "source": [
    "des.shape   #that are keypoints, you have to clustering them----> results will be clusters of keypoints---> each cluster is feature"
   ]
  },
  {
   "cell_type": "code",
   "execution_count": 8,
   "id": "lucky-stations",
   "metadata": {},
   "outputs": [
    {
     "name": "stdout",
     "output_type": "stream",
     "text": [
      "KMeans(algorithm='auto', copy_x=True, init='k-means++', max_iter=300,\n",
      "       n_clusters=100, n_init=4, n_jobs=None, precompute_distances='auto',\n",
      "       random_state=0, tol=0.0001, verbose=0)\n",
      "[[ 9.         6.799999  15.799999  ...  0.8000002  0.6000004 20.4      ]\n",
      " [ 2.         3.        59.        ... 11.        18.        33.       ]\n",
      " [71.600006  21.         0.5999994 ...  2.3999996  2.8000002  5.6000004]\n",
      " ...\n",
      " [32.        22.        38.        ... 29.        22.        47.       ]\n",
      " [ 2.        18.        66.        ...  2.        14.        50.       ]\n",
      " [ 1.         1.5        3.        ...  3.         8.        74.5      ]]\n"
     ]
    }
   ],
   "source": [
    "from sklearn.cluster import KMeans\n",
    "kmeans = KMeans(init=\"k-means++\", n_clusters=100, n_init=4,random_state=0)\n",
    "#X=descriptors\n",
    "kmeans.fit(des)\n",
    "visual_words = kmeans.cluster_centers_\n",
    "print(kmeans)\n",
    "print(visual_words)"
   ]
  },
  {
   "cell_type": "code",
   "execution_count": 9,
   "id": "driven-emerald",
   "metadata": {},
   "outputs": [
    {
     "data": {
      "text/plain": [
       "(100, 128)"
      ]
     },
     "execution_count": 9,
     "metadata": {},
     "output_type": "execute_result"
    }
   ],
   "source": [
    "visual_words.shape   #each cluster is feature---> this=visual_words is test mn."
   ]
  },
  {
   "cell_type": "code",
   "execution_count": 10,
   "id": "computational-brook",
   "metadata": {},
   "outputs": [
    {
     "data": {
      "text/plain": [
       "array([  9.        ,   6.799999  ,  15.799999  ,  31.800003  ,\n",
       "        73.2       ,  28.        ,  19.6       ,   7.2       ,\n",
       "        69.        ,  30.4       ,   8.6       ,  18.4       ,\n",
       "        48.        ,  14.2       ,   3.7999997 ,  30.        ,\n",
       "       128.2       ,  59.4       ,   5.6       ,   3.5999994 ,\n",
       "         4.        ,   0.6000004 ,   1.        ,  25.2       ,\n",
       "        78.4       ,  31.6       ,   5.2000003 ,   4.2       ,\n",
       "        10.799999  ,   6.        ,   1.6000004 ,  11.8       ,\n",
       "        21.6       ,   7.2       ,  11.8       ,  48.8       ,\n",
       "        92.        ,  26.4       ,   6.7999997 ,   9.        ,\n",
       "        49.199997  ,  40.8       ,  24.2       ,  33.6       ,\n",
       "        61.4       ,  22.        ,   8.        ,  14.        ,\n",
       "       138.2       ,  85.399994  ,  18.        ,   5.4000006 ,\n",
       "         5.4000015 ,   1.2000008 ,   0.19999886,  15.200001  ,\n",
       "       120.600006  ,  30.4       ,   3.        ,   2.8000002 ,\n",
       "        11.200001  ,   9.8       ,   1.2000008 ,  13.4       ,\n",
       "        31.4       ,   9.8       ,  12.        ,  34.8       ,\n",
       "        87.6       ,  29.8       ,  13.6       ,  31.        ,\n",
       "        45.600002  ,   7.6000004 ,   7.8       ,  23.6       ,\n",
       "        92.        ,  33.        ,   6.8       ,  27.8       ,\n",
       "       138.2       ,  27.2       ,   1.7999992 ,   1.7999992 ,\n",
       "         7.3999996 ,   5.2       ,   1.8000002 ,  54.        ,\n",
       "       118.        ,  21.        ,   5.3999996 ,   3.8000011 ,\n",
       "         1.2000008 ,   2.5999994 ,   2.1999998 ,  24.4       ,\n",
       "         9.200001  ,   4.6000004 ,   2.1999998 ,   5.0000005 ,\n",
       "        56.600002  ,  46.8       ,  36.8       ,  24.        ,\n",
       "        31.        ,   3.2000008 ,   1.3999996 ,   7.6000004 ,\n",
       "        56.6       ,  40.4       ,  18.        ,  20.8       ,\n",
       "       132.6       ,  26.8       ,   2.2000008 ,   1.6000004 ,\n",
       "         6.        ,  13.        ,   4.8       ,  50.399994  ,\n",
       "        96.399994  ,  21.4       ,   6.6000004 ,   6.        ,\n",
       "         2.6000004 ,   0.8000002 ,   0.6000004 ,  20.4       ],\n",
       "      dtype=float32)"
      ]
     },
     "execution_count": 10,
     "metadata": {},
     "output_type": "execute_result"
    }
   ],
   "source": [
    "visual_words[0]  #first feature, for first image=first cluster"
   ]
  },
  {
   "cell_type": "code",
   "execution_count": 11,
   "id": "typical-breathing",
   "metadata": {},
   "outputs": [
    {
     "ename": "NameError",
     "evalue": "name 'build_histogram' is not defined",
     "output_type": "error",
     "traceback": [
      "\u001b[0;31m---------------------------------------------------------------------------\u001b[0m",
      "\u001b[0;31mNameError\u001b[0m                                 Traceback (most recent call last)",
      "\u001b[0;32m<ipython-input-11-05e89adec925>\u001b[0m in \u001b[0;36m<module>\u001b[0;34m\u001b[0m\n\u001b[1;32m      1\u001b[0m \u001b[0;31m#if (descriptor is not None):https://towardsdatascience.com/bag-of-visual-words-in-a-nutshell-9ceea97ce0fb\u001b[0m\u001b[0;34m\u001b[0m\u001b[0;34m\u001b[0m\u001b[0;34m\u001b[0m\u001b[0m\n\u001b[0;32m----> 2\u001b[0;31m \u001b[0mhistogram\u001b[0m \u001b[0;34m=\u001b[0m \u001b[0mbuild_histogram\u001b[0m\u001b[0;34m(\u001b[0m\u001b[0mvisual_words\u001b[0m\u001b[0;34m,\u001b[0m \u001b[0mkmeans\u001b[0m\u001b[0;34m)\u001b[0m\u001b[0;34m\u001b[0m\u001b[0;34m\u001b[0m\u001b[0m\n\u001b[0m\u001b[1;32m      3\u001b[0m \u001b[0mpreprocessed_image\u001b[0m\u001b[0;34m.\u001b[0m\u001b[0mappend\u001b[0m\u001b[0;34m(\u001b[0m\u001b[0mhistogram\u001b[0m\u001b[0;34m)\u001b[0m\u001b[0;34m\u001b[0m\u001b[0;34m\u001b[0m\u001b[0m\n",
      "\u001b[0;31mNameError\u001b[0m: name 'build_histogram' is not defined"
     ]
    }
   ],
   "source": [
    "#if (descriptor is not None):https://towardsdatascience.com/bag-of-visual-words-in-a-nutshell-9ceea97ce0fb\n",
    "histogram = build_histogram(visual_words, kmeans)\n",
    "preprocessed_image.append(histogram)"
   ]
  },
  {
   "cell_type": "code",
   "execution_count": 12,
   "id": "continuous-metadata",
   "metadata": {},
   "outputs": [],
   "source": [
    "from scipy.cluster.vq import kmeans, vq\n",
    "\n",
    "k = 100  #k means with 100,600,500,300 clusters gives lower accuracy \n",
    "voc, variance = kmeans(des, k, 1) \n",
    "\n",
    "# Calculate the histogram of features and represent them as vector\n",
    "#vq Assigns codes from a code book to observations.\n",
    "im_features = np.zeros((len(image_paths), k), \"float32\")\n",
    "for i in range(len(image_paths)):\n",
    "\twords, distance = vq(des_list[i][1],voc)\n",
    "\tfor w in words:\n",
    "\t\tim_features[i][w] += 1"
   ]
  },
  {
   "cell_type": "code",
   "execution_count": 13,
   "id": "ecological-stanley",
   "metadata": {},
   "outputs": [],
   "source": [
    "from sklearn.preprocessing import StandardScaler\n",
    "im_features = StandardScaler().fit_transform(im_features)"
   ]
  },
  {
   "cell_type": "code",
   "execution_count": 14,
   "id": "sustained-minister",
   "metadata": {},
   "outputs": [],
   "source": [
    "from sklearn.neural_network import MLPClassifier\n",
    "clf = MLPClassifier(solver='adam', alpha=1e-5, hidden_layer_sizes=(200, ), random_state=1, max_iter=100000, activation='logistic')       #, batch_size=400)\n"
   ]
  },
  {
   "cell_type": "code",
   "execution_count": 15,
   "id": "respected-label",
   "metadata": {},
   "outputs": [
    {
     "data": {
      "text/plain": [
       "MLPClassifier(activation='logistic', alpha=1e-05, batch_size='auto', beta_1=0.9,\n",
       "              beta_2=0.999, early_stopping=False, epsilon=1e-08,\n",
       "              hidden_layer_sizes=(200,), learning_rate='constant',\n",
       "              learning_rate_init=0.001, max_fun=15000, max_iter=100000,\n",
       "              momentum=0.9, n_iter_no_change=10, nesterovs_momentum=True,\n",
       "              power_t=0.5, random_state=1, shuffle=True, solver='adam',\n",
       "              tol=0.0001, validation_fraction=0.1, verbose=False,\n",
       "              warm_start=False)"
      ]
     },
     "execution_count": 15,
     "metadata": {},
     "output_type": "execute_result"
    }
   ],
   "source": [
    "# evaluate model using 10-fold cross validation\n",
    "from sklearn.model_selection import StratifiedKFold, cross_val_score\n",
    "kfold = StratifiedKFold(n_splits=3, shuffle=True, random_state=7)  #crossvalidation for better results, n_splits=10 cannot be greater than the number of members in each class\n",
    "results = cross_val_score(clf, im_features, np.array(image_classes), cv=kfold)\n",
    "clf.fit(im_features, np.array(image_classes))"
   ]
  },
  {
   "cell_type": "code",
   "execution_count": 16,
   "id": "further-listing",
   "metadata": {},
   "outputs": [
    {
     "name": "stderr",
     "output_type": "stream",
     "text": [
      "/home/alenkat/.local/lib/python3.6/site-packages/sklearn/externals/joblib/__init__.py:15: FutureWarning: sklearn.externals.joblib is deprecated in 0.21 and will be removed in 0.23. Please import this functionality directly from joblib, which can be installed with: pip install joblib. If this warning is raised when loading pickled models, you may need to re-serialize those models with scikit-learn 0.21+.\n",
      "  warnings.warn(msg, category=FutureWarning)\n"
     ]
    },
    {
     "data": {
      "text/plain": [
       "['ubiriscnn1_6.pkl']"
      ]
     },
     "execution_count": 16,
     "metadata": {},
     "output_type": "execute_result"
    }
   ],
   "source": [
    "#Joblib dumps Python object into one file\n",
    "from sklearn.externals import joblib\n",
    "joblib.dump((clf, training_names, k, voc), \"ubiriscnn1_6.pkl\", compress=3) #izzvzela stdSlr"
   ]
  },
  {
   "cell_type": "code",
   "execution_count": null,
   "id": "classified-velvet",
   "metadata": {},
   "outputs": [],
   "source": []
  }
 ],
 "metadata": {
  "kernelspec": {
   "display_name": "Python 3",
   "language": "python",
   "name": "python3"
  },
  "language_info": {
   "codemirror_mode": {
    "name": "ipython",
    "version": 3
   },
   "file_extension": ".py",
   "mimetype": "text/x-python",
   "name": "python",
   "nbconvert_exporter": "python",
   "pygments_lexer": "ipython3",
   "version": "3.6.9"
  }
 },
 "nbformat": 4,
 "nbformat_minor": 5
}
